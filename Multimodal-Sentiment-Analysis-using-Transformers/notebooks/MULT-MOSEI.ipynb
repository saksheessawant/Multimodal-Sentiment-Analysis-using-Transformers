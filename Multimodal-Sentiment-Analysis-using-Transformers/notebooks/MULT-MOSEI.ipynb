{
 "cells": [
  {
   "cell_type": "markdown",
   "id": "49e0ad50-a2a2-4b96-b360-6ebd4ba790f6",
   "metadata": {},
   "source": [
    "# Multimodal Transformer Model - MOSEI"
   ]
  },
  {
   "cell_type": "markdown",
   "id": "1601d4a9-c176-4e94-9c84-250ae7ceb246",
   "metadata": {},
   "source": [
    "In this notebook, we implement the MulT Model (Multimodal Transformer for Unaligned Multimodal Language Sequences), and test it on CMU-MOSEI dataset."
   ]
  },
  {
   "cell_type": "markdown",
   "id": "0e330111-2839-49fa-86f3-2204b6d24fc4",
   "metadata": {},
   "source": [
    "## Importing Libraries"
   ]
  },
  {
   "cell_type": "code",
   "execution_count": 1,
   "id": "90273986-226c-4f13-a783-27d03eda1e21",
   "metadata": {},
   "outputs": [],
   "source": [
    "import os\n",
    "import sys\n",
    "import torch\n",
    "\n",
    "import numpy as np\n",
    "import matplotlib.pyplot as plt\n",
    "\n",
    "sys.path.append(os.getcwd())\n",
    "sys.path.append(os.path.dirname(os.path.dirname(os.getcwd())))"
   ]
  },
  {
   "cell_type": "markdown",
   "id": "3a8511b4-49ef-4df0-916e-07c8002ebcf9",
   "metadata": {},
   "source": [
    "## Importing Helper Functions"
   ]
  },
  {
   "cell_type": "code",
   "execution_count": 2,
   "id": "77dcaf0e-287e-4312-a80b-a67ca4221f73",
   "metadata": {},
   "outputs": [],
   "source": [
    "from helpers.data.get_data import get_dataloader\n",
    "from helpers.unimodals.common_models import Identity, MLP\n",
    "from helpers.fusions.mult import MULTModel\n",
    "from helpers.fusions.common_fusions import Concat\n",
    "from helpers.training.supervised_learning import train, test\n",
    "from helpers.utils.common_utils import get_default_device, save_results"
   ]
  },
  {
   "cell_type": "markdown",
   "id": "2bc745d1-4151-4894-af83-77780036ba7b",
   "metadata": {},
   "source": [
    "## Loading the Dataset"
   ]
  },
  {
   "cell_type": "code",
   "execution_count": 3,
   "id": "c7aa2aea-6160-4f43-a6f1-596f9c26bab7",
   "metadata": {},
   "outputs": [],
   "source": [
    "traindata, validdata, testdata = get_dataloader('data/mosei_senti_data.pkl', robust_test=False, max_pad=True)"
   ]
  },
  {
   "cell_type": "code",
   "execution_count": 4,
   "id": "3e83b4bf-2838-4c0b-beb8-3d6150a369f3",
   "metadata": {},
   "outputs": [
    {
     "name": "stdout",
     "output_type": "stream",
     "text": [
      "cuda\n"
     ]
    }
   ],
   "source": [
    "device = get_default_device()\n",
    "print(device)"
   ]
  },
  {
   "cell_type": "markdown",
   "id": "da5644c7-a89a-437f-8b75-3bf386b20dea",
   "metadata": {},
   "source": [
    "## Model Architecture"
   ]
  },
  {
   "cell_type": "code",
   "execution_count": 5,
   "id": "55070fb4-ea3e-4529-a717-7a0b3baf5275",
   "metadata": {},
   "outputs": [],
   "source": [
    "class HParams():\n",
    "    num_heads = 8\n",
    "    layers = 4\n",
    "    attn_dropout = 0.1\n",
    "    attn_dropout_modalities = [0, 0, 0.1]\n",
    "    relu_dropout = 0.1\n",
    "    res_dropout = 0.1\n",
    "    out_dropout = 0.1\n",
    "    embed_dropout = 0.2\n",
    "    embed_dim = 40\n",
    "    attn_mask = True\n",
    "    output_dim = 1\n",
    "    all_steps = False"
   ]
  },
  {
   "cell_type": "code",
   "execution_count": 6,
   "id": "b897d94f-f547-4100-aa74-80076e92e8fd",
   "metadata": {},
   "outputs": [],
   "source": [
    "encoders = [\n",
    "    Identity().to(device), \n",
    "    Identity().to(device), \n",
    "    Identity().to(device),\n",
    "    \n",
    "]\n",
    "\n",
    "fusion = MULTModel(3, [35, 74, 300], hyp_params=HParams).to(device)\n",
    "\n",
    "head = Identity().to(device)"
   ]
  },
  {
   "cell_type": "markdown",
   "id": "1ccb00f7-9da1-43bb-b41e-f39eca505a76",
   "metadata": {},
   "source": [
    "## Training"
   ]
  },
  {
   "cell_type": "code",
   "execution_count": 13,
   "id": "334d11e7-12b3-476b-8a3e-ebc39c814460",
   "metadata": {},
   "outputs": [],
   "source": [
    "FILE_NAME = 'mosei_mult_r0'"
   ]
  },
  {
   "cell_type": "code",
   "execution_count": null,
   "id": "49704ef0-fdb1-4f25-93a3-25083ce2d016",
   "metadata": {},
   "outputs": [
    {
     "name": "stdout",
     "output_type": "stream",
     "text": [
      "Epoch [1/100]\n",
      "Train Loss: 0.7846\n",
      "Valid Loss: 0.6703\n",
      "Saving Best\n",
      "\n",
      "Epoch [2/100]\n",
      "Train Loss: 0.6820\n",
      "Valid Loss: 0.6409\n",
      "Saving Best\n",
      "\n",
      "Epoch [3/100]\n",
      "Train Loss: 0.6502\n",
      "Valid Loss: 0.6256\n",
      "Saving Best\n",
      "\n",
      "Epoch [4/100]\n",
      "Train Loss: 0.6388\n",
      "Valid Loss: 0.6497\n",
      "\n",
      "Epoch [5/100]\n",
      "Train Loss: 0.6278\n",
      "Valid Loss: 0.6730\n",
      "\n",
      "Epoch [6/100]\n",
      "Train Loss: 0.6163\n",
      "Valid Loss: 0.6527\n",
      "\n",
      "Epoch [7/100]\n",
      "Train Loss: 0.6129\n",
      "Valid Loss: 0.6425\n",
      "\n",
      "Epoch [8/100]\n",
      "Train Loss: 0.6010\n",
      "Valid Loss: 0.6777\n",
      "\n",
      "Epoch [9/100]\n",
      "Train Loss: 0.5967\n",
      "Valid Loss: 0.6066\n",
      "Saving Best\n",
      "\n",
      "Epoch [10/100]\n",
      "Train Loss: 0.5842\n",
      "Valid Loss: 0.6231\n",
      "\n",
      "Epoch [11/100]\n",
      "Train Loss: 0.5821\n",
      "Valid Loss: 0.6245\n",
      "\n",
      "Epoch [12/100]\n",
      "Train Loss: 0.5785\n",
      "Valid Loss: 0.6348\n",
      "\n",
      "Epoch [13/100]\n",
      "Train Loss: 0.5730\n",
      "Valid Loss: 0.6197\n",
      "\n",
      "Epoch [14/100]\n",
      "Train Loss: 0.5672\n",
      "Valid Loss: 0.6745\n",
      "\n",
      "Epoch [15/100]\n",
      "Train Loss: 0.5574\n",
      "Valid Loss: 0.6444\n",
      "\n",
      "Epoch [16/100]\n",
      "Train Loss: 0.5597\n",
      "Valid Loss: 0.6278\n",
      "\n",
      "Epoch [17/100]\n",
      "Train Loss: 0.5528\n",
      "Valid Loss: 0.6143\n",
      "\n",
      "Epoch [18/100]\n",
      "Train Loss: 0.5477\n",
      "Valid Loss: 0.6494\n",
      "\n",
      "Epoch [19/100]\n",
      "Train Loss: 0.5465\n",
      "Valid Loss: 0.6271\n",
      "\n",
      "Epoch [20/100]\n",
      "Train Loss: 0.5449\n",
      "Valid Loss: 0.6316\n",
      "\n",
      "Epoch [21/100]\n",
      "Train Loss: 0.5395\n",
      "Valid Loss: 0.5944\n",
      "Saving Best\n",
      "\n",
      "Epoch [22/100]\n",
      "Train Loss: 0.5351\n",
      "Valid Loss: 0.6186\n",
      "\n",
      "Epoch [23/100]\n",
      "Train Loss: 0.5298\n",
      "Valid Loss: 0.6244\n",
      "\n",
      "Epoch [24/100]\n",
      "Train Loss: 0.5262\n",
      "Valid Loss: 0.6131\n",
      "\n",
      "Epoch [25/100]\n",
      "Train Loss: 0.5206\n",
      "Valid Loss: 0.5966\n",
      "\n",
      "Epoch [26/100]\n",
      "Train Loss: 0.5227\n",
      "Valid Loss: 0.6277\n",
      "\n",
      "Epoch [27/100]\n",
      "Train Loss: 0.5169\n",
      "Valid Loss: 0.6321\n",
      "\n",
      "Epoch [28/100]\n",
      "Train Loss: 0.5126\n",
      "Valid Loss: 0.6513\n",
      "\n",
      "Epoch [29/100]\n",
      "Train Loss: 0.5109\n",
      "Valid Loss: 0.6256\n",
      "\n",
      "Epoch [30/100]\n",
      "Train Loss: 0.5098\n",
      "Valid Loss: 0.6160\n",
      "\n",
      "Epoch [31/100]\n",
      "Train Loss: 0.5059\n",
      "Valid Loss: 0.6104\n",
      "\n",
      "Epoch [32/100]\n",
      "Train Loss: 0.5011\n",
      "Valid Loss: 0.6194\n",
      "\n",
      "Epoch [33/100]\n",
      "Train Loss: 0.4990\n",
      "Valid Loss: 0.6305\n",
      "\n",
      "Epoch [34/100]\n",
      "Train Loss: 0.5015\n",
      "Valid Loss: 0.6166\n",
      "\n",
      "Epoch [35/100]\n",
      "Train Loss: 0.4945\n",
      "Valid Loss: 0.6107\n",
      "\n",
      "Epoch [36/100]\n",
      "Train Loss: 0.4898\n",
      "Valid Loss: 0.6325\n",
      "\n",
      "Epoch [37/100]\n",
      "Train Loss: 0.4894\n",
      "Valid Loss: 0.6246\n",
      "\n",
      "Epoch [38/100]\n",
      "Train Loss: 0.4891\n",
      "Valid Loss: 0.6584\n",
      "\n",
      "Epoch [39/100]\n",
      "Train Loss: 0.4837\n",
      "Valid Loss: 0.6264\n",
      "\n",
      "Epoch [40/100]\n",
      "Train Loss: 0.4813\n",
      "Valid Loss: 0.6580\n",
      "\n",
      "Epoch [41/100]\n",
      "Train Loss: 0.4793\n",
      "Valid Loss: 0.6154\n",
      "\n",
      "Epoch [42/100]\n",
      "Train Loss: 0.4770\n",
      "Valid Loss: 0.6466\n",
      "\n",
      "Epoch [43/100]\n",
      "Train Loss: 0.4738\n",
      "Valid Loss: 0.6452\n",
      "\n",
      "Epoch [44/100]\n",
      "Train Loss: 0.4738\n",
      "Valid Loss: 0.6394\n",
      "\n",
      "Epoch [45/100]\n",
      "Train Loss: 0.4702\n",
      "Valid Loss: 0.6392\n",
      "\n",
      "Epoch [46/100]\n",
      "Train Loss: 0.4664\n",
      "Valid Loss: 0.6654\n",
      "\n",
      "Epoch [47/100]\n",
      "Train Loss: 0.4661\n",
      "Valid Loss: 0.6209\n",
      "\n",
      "Epoch [48/100]\n"
     ]
    }
   ],
   "source": [
    "train_losses, valid_losses = train(\n",
    "    encoders, fusion, head, traindata, validdata, 100, \n",
    "    task=\"regression\", optimtype=torch.optim.AdamW, early_stop=False, is_packed=False, \n",
    "    lr=1e-3, clip_val=1.0, save=f'models/{FILE_NAME}.pt', \n",
    "    weight_decay=0.01, objective=torch.nn.L1Loss())"
   ]
  },
  {
   "cell_type": "code",
   "execution_count": 28,
   "id": "6322ee5b-0442-47f3-a910-2533fee34036",
   "metadata": {},
   "outputs": [
    {
     "data": {
      "text/plain": [
       "Text(0.5, 1.0, 'Loss vs. No. of epochs')"
      ]
     },
     "execution_count": 28,
     "metadata": {},
     "output_type": "execute_result"
    },
    {
     "data": {
      "image/png": "[encoded data removed]",
      "text/plain": [
       "<Figure size 640x480 with 1 Axes>"
      ]
     },
     "metadata": {},
     "output_type": "display_data"
    }
   ],
   "source": [
    "plt.plot(train_losses, label='Train Loss')\n",
    "plt.plot(valid_losses, label='Validation Loss')\n",
    "plt.xlabel('Epochs')\n",
    "plt.ylabel('Loss')\n",
    "plt.legend()\n",
    "plt.grid(True)\n",
    "plt.title('Loss vs. No. of epochs')"
   ]
  },
  {
   "cell_type": "code",
   "execution_count": null,
   "id": "4ecbf0dc-8fad-490b-bd2a-5b0c265e91ab",
   "metadata": {},
   "outputs": [],
   "source": [
    "save_results(train_losses, valid_losses, f'results/{FILE_NAME}.pkl')"
   ]
  },
  {
   "cell_type": "markdown",
   "id": "7c091121-ff36-40fc-ab64-a58a4f524e8b",
   "metadata": {},
   "source": [
    "## Testing"
   ]
  },
  {
   "cell_type": "code",
   "execution_count": 9,
   "id": "d01b591b-614f-433c-9ae7-10ac18a850fe",
   "metadata": {},
   "outputs": [
    {
     "name": "stdout",
     "output_type": "stream",
     "text": [
      "Recall: 80.1934% | Total Accuracy: 71.9147%\n",
      "Inference Time: 13s73ms\n",
      "Inference Params: 3080321\n"
     ]
    }
   ],
   "source": [
    "model = torch.load(f'models/{FILE_NAME}.pt').to(device)\n",
    "\n",
    "test(model, test_dataloaders_all=testdata, dataset='mosi', is_packed=False,\n",
    "     criterion=torch.nn.L1Loss(), task='posneg-classification', no_robust=True)"
   ]
  }
 ],
 "metadata": {
  "kernelspec": {
   "display_name": "Python 3 (ipykernel)",
   "language": "python",
   "name": "python3"
  },
  "language_info": {
   "codemirror_mode": {
    "name": "ipython",
    "version": 3
   },
   "file_extension": ".py",
   "mimetype": "text/x-python",
   "name": "python",
   "nbconvert_exporter": "python",
   "pygments_lexer": "ipython3",
   "version": "3.11.7"
  }
 },
 "nbformat": 4,
 "nbformat_minor": 5
}
