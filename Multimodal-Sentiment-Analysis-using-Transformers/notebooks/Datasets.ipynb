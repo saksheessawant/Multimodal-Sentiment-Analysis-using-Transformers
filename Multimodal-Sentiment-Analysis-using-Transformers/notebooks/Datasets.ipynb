{
 "cells": [
  {
   "cell_type": "markdown",
   "id": "ea2bdf71-2737-450e-8ffe-3778b37ab227",
   "metadata": {},
   "source": [
    "# Datasets"
   ]
  },
  {
   "cell_type": "markdown",
   "id": "8515def1-457a-473d-a174-fb93926798f7",
   "metadata": {},
   "source": [
    "In this notebook, we get the CMU-MOSI and CMU-MOSEI dataset from CMU's Google Drive Directory. This directory has the the pickle files that we require for our project."
   ]
  },
  {
   "cell_type": "markdown",
   "id": "c2493849-e058-45b2-b17e-7e346b47bcd7",
   "metadata": {},
   "source": [
    "## Importing Libraries"
   ]
  },
  {
   "cell_type": "code",
   "execution_count": 1,
   "id": "d341805b-5f78-4805-b991-69d532c8f7a4",
   "metadata": {},
   "outputs": [],
   "source": [
    "import numpy as np\n",
    "import matplotlib.pyplot as plt"
   ]
  },
  {
   "cell_type": "code",
   "execution_count": 2,
   "id": "e313ef9a-0e2c-4756-bdef-fca04f4554af",
   "metadata": {},
   "outputs": [],
   "source": [
    "# !mkdir data\n",
    "# !pip install gdown"
   ]
  },
  {
   "cell_type": "markdown",
   "id": "3051b460-8922-4b55-9d4b-5443a80602db",
   "metadata": {},
   "source": [
    "## Importing Helper Functions"
   ]
  },
  {
   "cell_type": "code",
   "execution_count": 3,
   "id": "69af5f2f-9c87-4e1c-8132-2cf5d9afcca1",
   "metadata": {},
   "outputs": [],
   "source": [
    "from helpers.data.get_data import get_dataloader"
   ]
  },
  {
   "cell_type": "markdown",
   "id": "f1fcebf2-62d4-4d85-ac26-f0c8484ad3b4",
   "metadata": {},
   "source": [
    "## Downloading CMU-MOSI Dataset"
   ]
  },
  {
   "cell_type": "markdown",
   "id": "8e723522-ea5b-4d91-a808-b470125f2a21",
   "metadata": {},
   "source": [
    "We download the pickle file from the Google Drive links from the documentation..."
   ]
  },
  {
   "cell_type": "markdown",
   "id": "ceb5d099-faa7-4f7d-afe6-c0419bf6a553",
   "metadata": {},
   "source": [
    "### mosi_raw.pkl"
   ]
  },
  {
   "cell_type": "code",
   "execution_count": 4,
   "id": "b1113467-da58-41d4-881a-dc48637ef385",
   "metadata": {},
   "outputs": [],
   "source": [
    "# %cd data\n",
    "# !gdown https://drive.google.com/u/0/uc?id=1szKIqO0t3Be_W91xvf6aYmsVVUa7wDHU"
   ]
  },
  {
   "cell_type": "markdown",
   "id": "f652310a-4536-4d55-bb49-0f350672416e",
   "metadata": {},
   "source": [
    "### mosi_data.pkl"
   ]
  },
  {
   "cell_type": "code",
   "execution_count": 5,
   "id": "d7f71818-45e0-4a12-be45-f8fdd67e6111",
   "metadata": {},
   "outputs": [],
   "source": [
    "# !gdown --fuzzy \"https://drive.google.com/file/d/1_XdzdW8UNG1TTS6QcX10uhoS6N11OBit/view?usp=share_link\""
   ]
  },
  {
   "cell_type": "markdown",
   "id": "20585a23-8381-4793-b7e2-85412199e89b",
   "metadata": {},
   "source": [
    "## Exploring CMU-MOSI Dataset"
   ]
  },
  {
   "cell_type": "code",
   "execution_count": 6,
   "id": "2e108bf0-d306-4b57-9243-0ffa1abb7af2",
   "metadata": {},
   "outputs": [],
   "source": [
    "traindata, validdata, testdata = get_dataloader(\n",
    "    '/scratch/rrm9598/data/mosi_raw.pkl', robust_test=False, max_pad=True, data_type='mosi', max_seq_len=50)"
   ]
  },
  {
   "cell_type": "markdown",
   "id": "b47862f4-0afe-4435-b842-d4859cc7e0e5",
   "metadata": {},
   "source": [
    "Verifying the train, validation and test data size."
   ]
  },
  {
   "cell_type": "code",
   "execution_count": 7,
   "id": "775bf15f-9772-483b-a3b4-dbe97dd7b324",
   "metadata": {},
   "outputs": [
    {
     "name": "stdout",
     "output_type": "stream",
     "text": [
      "Train Data Size      : 1283\n",
      "Validation Data Size : 214\n",
      "Test  Data Size      : 686\n",
      "Total Data Size      : 2183\n"
     ]
    }
   ],
   "source": [
    "traindata_size = len(traindata.dataset)\n",
    "validdata_size = len(validdata.dataset)\n",
    "testdata_size = len(testdata.dataset)\n",
    "\n",
    "print(\"Train Data Size      :\", traindata_size)\n",
    "print(\"Validation Data Size :\", validdata_size)\n",
    "print(\"Test  Data Size      :\", testdata_size)\n",
    "\n",
    "totaldata_size = traindata_size + validdata_size + testdata_size\n",
    "print(\"Total Data Size      :\", totaldata_size)"
   ]
  },
  {
   "cell_type": "code",
   "execution_count": 8,
   "id": "201cdd51-baf0-4eda-9b58-3359f3a883ad",
   "metadata": {},
   "outputs": [],
   "source": [
    "for batch in traindata:\n",
    "    inputs = batch\n",
    "    break"
   ]
  },
  {
   "cell_type": "code",
   "execution_count": 9,
   "id": "6c8e71d5-77e2-4fe1-9462-4f455744709b",
   "metadata": {},
   "outputs": [
    {
     "name": "stdout",
     "output_type": "stream",
     "text": [
      "Shape of input sample: 4\n",
      "Shape of input item 1: torch.Size([32, 50, 35])\n",
      "Shape of input item 2: torch.Size([32, 50, 74])\n",
      "Shape of input item 3: torch.Size([32, 50, 300])\n",
      "Shape of input item 4: torch.Size([32, 1])\n"
     ]
    }
   ],
   "source": [
    "print(\"Shape of input sample:\", len(inputs))\n",
    "print(\"Shape of input item 1:\", inputs[0].shape)\n",
    "print(\"Shape of input item 2:\", inputs[1].shape)\n",
    "print(\"Shape of input item 3:\", inputs[2].shape)\n",
    "print(\"Shape of input item 4:\", inputs[3].shape)"
   ]
  },
  {
   "cell_type": "code",
   "execution_count": 10,
   "id": "48ccc459-4296-46a4-beac-e29b1e47cb4b",
   "metadata": {},
   "outputs": [
    {
     "data": {
      "image/png": "[encoded data removed]",
      "text/plain": [
       "<Figure size 640x480 with 1 Axes>"
      ]
     },
     "metadata": {},
     "output_type": "display_data"
    }
   ],
   "source": [
    "plt.imshow(inputs[0][0], cmap='gray')\n",
    "plt.axis('off')\n",
    "plt.show()"
   ]
  },
  {
   "cell_type": "code",
   "execution_count": 11,
   "id": "ce8526ae-8bad-4e1b-866c-1131d981f5d8",
   "metadata": {},
   "outputs": [
    {
     "data": {
      "image/png": "[encoded data removed]",
      "text/plain": [
       "<Figure size 640x480 with 1 Axes>"
      ]
     },
     "metadata": {},
     "output_type": "display_data"
    }
   ],
   "source": [
    "plt.imshow(inputs[1][0], cmap='gray')\n",
    "plt.axis('off')\n",
    "plt.show()"
   ]
  },
  {
   "cell_type": "code",
   "execution_count": 12,
   "id": "eafd77ff-13bd-47aa-b8a2-7f198e1321de",
   "metadata": {},
   "outputs": [
    {
     "data": {
      "image/png": "[encoded data removed]",
      "text/plain": [
       "<Figure size 640x480 with 1 Axes>"
      ]
     },
     "metadata": {},
     "output_type": "display_data"
    }
   ],
   "source": [
    "plt.imshow(inputs[2][0], cmap='gray')\n",
    "plt.axis('off')\n",
    "plt.show()"
   ]
  },
  {
   "cell_type": "code",
   "execution_count": 13,
   "id": "46a4b0e5-8fa4-41a3-a4be-b7cf2241967b",
   "metadata": {},
   "outputs": [
    {
     "data": {
      "text/plain": [
       "tensor([-2.2500])"
      ]
     },
     "execution_count": 13,
     "metadata": {},
     "output_type": "execute_result"
    }
   ],
   "source": [
    "inputs[3][0]"
   ]
  },
  {
   "cell_type": "markdown",
   "id": "88f8061f-30f5-4b81-8911-6c914cd37ed5",
   "metadata": {},
   "source": [
    "## Downloading CMU-MOSEI Dataset"
   ]
  },
  {
   "cell_type": "markdown",
   "id": "df9c78ea-aa7b-4681-aaec-a80f7620a1e9",
   "metadata": {},
   "source": [
    "### mosei_raw.pkl"
   ]
  },
  {
   "cell_type": "code",
   "execution_count": 14,
   "id": "9ea95e10-88a8-4294-8c3d-ba2efb3c5e91",
   "metadata": {},
   "outputs": [],
   "source": [
    "# !gdown --fuzzy \"https://drive.google.com/file/d/1zFOBHijVppTiyteSsi0aTFYPEsda_AOk/view?usp=drive_link\""
   ]
  },
  {
   "cell_type": "markdown",
   "id": "36b52798-3f2b-493e-a29a-dd9bfbba4168",
   "metadata": {},
   "source": [
    "### mosei_data.pkl"
   ]
  },
  {
   "cell_type": "code",
   "execution_count": 15,
   "id": "e2bcc48b-2765-4605-9204-7cf6d6d00fab",
   "metadata": {},
   "outputs": [],
   "source": [
    "# !gdown --fuzzy \"https://drive.google.com/file/d/180l4pN6XAv8-OAYQ6OrMheFUMwtqUWbz/view?usp=share_link\""
   ]
  },
  {
   "cell_type": "markdown",
   "id": "4fb9f2ea-531f-4c4b-ad0d-91a61d2fe879",
   "metadata": {},
   "source": [
    "## Exploring CMU-MOSEI Dataset"
   ]
  },
  {
   "cell_type": "code",
   "execution_count": 16,
   "id": "48f36a0d-1e61-46cb-8d2a-0584750b8907",
   "metadata": {},
   "outputs": [],
   "source": [
    "traindata, validdata, testdata = get_dataloader('/scratch/rrm9598/data/mosei_raw.pkl', data_type='mosei')"
   ]
  },
  {
   "cell_type": "code",
   "execution_count": 17,
   "id": "f0bd8ec1-589a-45ed-b5bc-54bd56a0ef4d",
   "metadata": {},
   "outputs": [
    {
     "name": "stdout",
     "output_type": "stream",
     "text": [
      "Train Data Size      : 16327\n",
      "Validation Data Size : 1871\n",
      "Test  Data Size      : 4662\n",
      "Total Data Size      : 22860\n"
     ]
    }
   ],
   "source": [
    "traindata_size = len(traindata.dataset)\n",
    "validdata_size = len(validdata.dataset)\n",
    "testdata_size = len(testdata.dataset)\n",
    "\n",
    "print(\"Train Data Size      :\", traindata_size)\n",
    "print(\"Validation Data Size :\", validdata_size)\n",
    "print(\"Test  Data Size      :\", testdata_size)\n",
    "\n",
    "totaldata_size = traindata_size + validdata_size + testdata_size\n",
    "print(\"Total Data Size      :\", totaldata_size)"
   ]
  },
  {
   "cell_type": "code",
   "execution_count": 18,
   "id": "328fea9a-25ff-4f3b-b1ee-891756efcf4c",
   "metadata": {},
   "outputs": [],
   "source": [
    "for batch in traindata:\n",
    "    inputs = batch\n",
    "    break"
   ]
  },
  {
   "cell_type": "code",
   "execution_count": 19,
   "id": "97405fb0-5340-4f04-826d-f238658d7b53",
   "metadata": {},
   "outputs": [
    {
     "name": "stdout",
     "output_type": "stream",
     "text": [
      "Shape of input sample: 4\n",
      "Shape of input item 1: 3\n",
      "\tShape of input item 1, item 1: torch.Size([32, 50, 713])\n",
      "\tShape of input item 1, item 2: torch.Size([32, 50, 74])\n",
      "\tShape of input item 1, item 3: torch.Size([32, 50, 300])\n",
      "Shape of input item 2: 3\n",
      "\tShape of input item 2, item 1: torch.Size([32])\n",
      "\tShape of input item 2, item 2: torch.Size([32])\n",
      "\tShape of input item 2, item 3: torch.Size([32])\n",
      "Shape of input item 3: torch.Size([32, 1])\n",
      "Shape of input item 4: torch.Size([32, 1])\n"
     ]
    }
   ],
   "source": [
    "print(\"Shape of input sample:\", len(inputs))\n",
    "print(\"Shape of input item 1:\", len(inputs[0]))\n",
    "print(\"\\tShape of input item 1, item 1:\", inputs[0][0].shape)\n",
    "print(\"\\tShape of input item 1, item 2:\", inputs[0][1].shape)\n",
    "print(\"\\tShape of input item 1, item 3:\", inputs[0][2].shape)\n",
    "print(\"Shape of input item 2:\", len(inputs[1]))\n",
    "print(\"\\tShape of input item 2, item 1:\", inputs[1][0].shape)\n",
    "print(\"\\tShape of input item 2, item 2:\", inputs[1][1].shape)\n",
    "print(\"\\tShape of input item 2, item 3:\", inputs[1][2].shape)\n",
    "print(\"Shape of input item 3:\", inputs[2].shape)\n",
    "print(\"Shape of input item 4:\", inputs[3].shape)"
   ]
  },
  {
   "cell_type": "code",
   "execution_count": 20,
   "id": "ee2327ac-43ed-40d0-9318-bc1f2e050dbf",
   "metadata": {},
   "outputs": [
    {
     "data": {
      "image/png": "[encoded data removed]",
      "text/plain": [
       "<Figure size 640x480 with 1 Axes>"
      ]
     },
     "metadata": {},
     "output_type": "display_data"
    }
   ],
   "source": [
    "plt.imshow(inputs[0][0][0], cmap='gray')\n",
    "plt.axis('off')\n",
    "plt.show()"
   ]
  },
  {
   "cell_type": "code",
   "execution_count": 21,
   "id": "531a694f-e0d2-48a7-92d6-fbd0e3911171",
   "metadata": {},
   "outputs": [
    {
     "data": {
      "image/png": "[encoded data removed]",
      "text/plain": [
       "<Figure size 640x480 with 1 Axes>"
      ]
     },
     "metadata": {},
     "output_type": "display_data"
    }
   ],
   "source": [
    "plt.imshow(inputs[0][1][0], cmap='gray')\n",
    "plt.axis('off')\n",
    "plt.show()"
   ]
  },
  {
   "cell_type": "code",
   "execution_count": 22,
   "id": "314aabce-5df6-4088-b16b-0aeb46f340f0",
   "metadata": {},
   "outputs": [
    {
     "data": {
      "image/png": "[encoded data removed]",
      "text/plain": [
       "<Figure size 640x480 with 1 Axes>"
      ]
     },
     "metadata": {},
     "output_type": "display_data"
    }
   ],
   "source": [
    "plt.imshow(inputs[0][2][0], cmap='gray')\n",
    "plt.axis('off')\n",
    "plt.show()"
   ]
  },
  {
   "cell_type": "code",
   "execution_count": 23,
   "id": "f289b482-fcdc-494e-baea-77b8d2b0fe5b",
   "metadata": {},
   "outputs": [
    {
     "data": {
      "text/plain": [
       "tensor([ 9, 22, 26, 14, 28, 29,  5, 50, 11, 28, 22, 36, 38, 19, 25, 41,  7, 19,\n",
       "        10,  9,  7, 12, 19, 21,  6, 12, 18, 14, 18, 24, 22, 44])"
      ]
     },
     "execution_count": 23,
     "metadata": {},
     "output_type": "execute_result"
    }
   ],
   "source": [
    "inputs[1][0]"
   ]
  },
  {
   "cell_type": "code",
   "execution_count": 24,
   "id": "22f81adf-baaa-4951-aafa-1769fbc70bf1",
   "metadata": {},
   "outputs": [
    {
     "data": {
      "text/plain": [
       "tensor([ 9, 22, 26, 14, 28, 29,  5, 50, 11, 28, 22, 36, 38, 19, 25, 41,  7, 19,\n",
       "        10,  9,  7, 12, 19, 21,  6, 12, 18, 14, 18, 24, 22, 44])"
      ]
     },
     "execution_count": 24,
     "metadata": {},
     "output_type": "execute_result"
    }
   ],
   "source": [
    "inputs[1][1]"
   ]
  },
  {
   "cell_type": "code",
   "execution_count": 25,
   "id": "f38d5ca6-e8ba-43ff-8034-17a798195118",
   "metadata": {},
   "outputs": [
    {
     "data": {
      "text/plain": [
       "tensor([ 9, 22, 26, 14, 28, 29,  5, 50, 11, 28, 22, 36, 38, 19, 25, 41,  7, 19,\n",
       "        10,  9,  7, 12, 19, 21,  6, 12, 18, 14, 18, 24, 22, 44])"
      ]
     },
     "execution_count": 25,
     "metadata": {},
     "output_type": "execute_result"
    }
   ],
   "source": [
    "inputs[1][2]"
   ]
  },
  {
   "cell_type": "code",
   "execution_count": 26,
   "id": "e0c869fd-0018-4297-869a-cd9aa0774ec7",
   "metadata": {},
   "outputs": [
    {
     "data": {
      "text/plain": [
       "tensor([[ 5995],\n",
       "        [ 7656],\n",
       "        [15649],\n",
       "        [ 7860],\n",
       "        [15714],\n",
       "        [13114],\n",
       "        [ 8385],\n",
       "        [ 6645],\n",
       "        [ 7023],\n",
       "        [ 7086],\n",
       "        [ 7909],\n",
       "        [10172],\n",
       "        [ 8273],\n",
       "        [ 1198],\n",
       "        [14472],\n",
       "        [12571],\n",
       "        [ 3138],\n",
       "        [ 3884],\n",
       "        [ 5373],\n",
       "        [ 6531],\n",
       "        [ 1238],\n",
       "        [15165],\n",
       "        [   94],\n",
       "        [12689],\n",
       "        [  592],\n",
       "        [11124],\n",
       "        [ 5718],\n",
       "        [13430],\n",
       "        [ 5734],\n",
       "        [ 7912],\n",
       "        [13948],\n",
       "        [11390]])"
      ]
     },
     "execution_count": 26,
     "metadata": {},
     "output_type": "execute_result"
    }
   ],
   "source": [
    "inputs[2]"
   ]
  },
  {
   "cell_type": "code",
   "execution_count": 27,
   "id": "c7fb52f8-70ff-49a2-aa07-c4cdb79af2c3",
   "metadata": {},
   "outputs": [
    {
     "data": {
      "text/plain": [
       "tensor([[ 2.3333],\n",
       "        [ 0.3333],\n",
       "        [ 0.6667],\n",
       "        [ 0.3333],\n",
       "        [ 1.0000],\n",
       "        [ 0.0000],\n",
       "        [ 1.6667],\n",
       "        [-1.6667],\n",
       "        [-1.6667],\n",
       "        [ 1.6667],\n",
       "        [ 2.0000],\n",
       "        [ 1.3333],\n",
       "        [ 0.0000],\n",
       "        [ 0.0000],\n",
       "        [ 0.6667],\n",
       "        [ 0.6667],\n",
       "        [ 0.0000],\n",
       "        [-0.3333],\n",
       "        [-2.3333],\n",
       "        [-1.6667],\n",
       "        [ 0.3333],\n",
       "        [ 0.0000],\n",
       "        [-0.6667],\n",
       "        [ 0.5000],\n",
       "        [-1.0000],\n",
       "        [ 0.0000],\n",
       "        [ 0.3333],\n",
       "        [ 0.0000],\n",
       "        [ 0.3333],\n",
       "        [ 0.0000],\n",
       "        [ 0.6667],\n",
       "        [-0.3333]])"
      ]
     },
     "execution_count": 27,
     "metadata": {},
     "output_type": "execute_result"
    }
   ],
   "source": [
    "inputs[3]"
   ]
  },
  {
   "cell_type": "code",
   "execution_count": null,
   "id": "a06a76e0-20b6-48c8-80f6-63cb686f6036",
   "metadata": {},
   "outputs": [],
   "source": []
  }
 ],
 "metadata": {
  "kernelspec": {
   "display_name": "Python 3 (ipykernel)",
   "language": "python",
   "name": "python3"
  },
  "language_info": {
   "codemirror_mode": {
    "name": "ipython",
    "version": 3
   },
   "file_extension": ".py",
   "mimetype": "text/x-python",
   "name": "python",
   "nbconvert_exporter": "python",
   "pygments_lexer": "ipython3",
   "version": "3.11.7"
  }
 },
 "nbformat": 4,
 "nbformat_minor": 5
}
