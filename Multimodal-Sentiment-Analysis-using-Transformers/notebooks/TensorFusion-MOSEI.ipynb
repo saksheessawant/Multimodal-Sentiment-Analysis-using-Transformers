{
 "cells": [
  {
   "cell_type": "markdown",
   "id": "067cb8f5-a1c8-40d0-8524-0b28f8e4b586",
   "metadata": {},
   "source": [
    "# Tensor Fusion Model - CMU-MOSEI Dataset"
   ]
  },
  {
   "cell_type": "markdown",
   "id": "dc5714ca-83db-40ac-aef0-ee05dfddd1a3",
   "metadata": {},
   "source": [
    "In this notebook, we implement the Tensor Fusion Model, and test it on CMU-MOSEI dataset."
   ]
  },
  {
   "cell_type": "markdown",
   "id": "fc015c8e-f315-40d9-823c-6fc3626a4510",
   "metadata": {},
   "source": [
    "## Importing Libraries"
   ]
  },
  {
   "cell_type": "code",
   "execution_count": 1,
   "id": "d4a4adae-a451-493d-9ddb-0efb28537923",
   "metadata": {},
   "outputs": [],
   "source": [
    "import os\n",
    "import sys\n",
    "import torch\n",
    "from torch import nn\n",
    "\n",
    "import numpy as np\n",
    "import matplotlib.pyplot as plt\n",
    "\n",
    "sys.path.append(os.getcwd())\n",
    "sys.path.append(os.path.dirname(os.path.dirname(os.getcwd())))"
   ]
  },
  {
   "cell_type": "markdown",
   "id": "52a35966-1fba-4107-a1fc-1137f26224bf",
   "metadata": {},
   "source": [
    "## Importing Helper Functions"
   ]
  },
  {
   "cell_type": "code",
   "execution_count": 2,
   "id": "b8d45f84-62c1-4315-9010-45d345dda90d",
   "metadata": {},
   "outputs": [],
   "source": [
    "from helpers.data.get_data import get_dataloader\n",
    "from helpers.unimodals.common_models import GRUWithLinear, MLP\n",
    "from helpers.fusions.common_fusions import Concat, TensorFusion\n",
    "from helpers.training.all_in_one import all_in_one_train\n",
    "from helpers.training.supervised_learning import train, test\n",
    "from helpers.utils.common_utils import get_default_device, save_results"
   ]
  },
  {
   "cell_type": "markdown",
   "id": "8dc9b148-2e2f-4cfa-a7d4-d53b639f5b18",
   "metadata": {},
   "source": [
    "## Loading the Dataset"
   ]
  },
  {
   "cell_type": "code",
   "execution_count": 3,
   "id": "7f193c63-0bfb-4248-a2a8-e81ca20a7c14",
   "metadata": {},
   "outputs": [],
   "source": [
    "traindata, validdata, testdata = get_dataloader(\n",
    "    '/scratch/rrm9598/data/mosei_senti_data.pkl', robust_test=False)"
   ]
  },
  {
   "cell_type": "code",
   "execution_count": 4,
   "id": "75b021aa-09ec-4739-92d3-028a0ed54287",
   "metadata": {},
   "outputs": [
    {
     "name": "stdout",
     "output_type": "stream",
     "text": [
      "cuda\n"
     ]
    }
   ],
   "source": [
    "device = get_default_device()\n",
    "print(device)"
   ]
  },
  {
   "cell_type": "markdown",
   "id": "a1b80fea-4d34-4db8-a1ed-9ca4e853bbd4",
   "metadata": {},
   "source": [
    "## Model Architecture"
   ]
  },
  {
   "cell_type": "code",
   "execution_count": 5,
   "id": "59286eb3-949a-4afb-b4f4-0b115b885f92",
   "metadata": {},
   "outputs": [],
   "source": [
    "encoders = [GRUWithLinear(35, 64, 4, dropout=True, has_padding=True).to(device),\n",
    "            GRUWithLinear(74, 128, 19, dropout=True, has_padding=True).to(device),\n",
    "            GRUWithLinear(300, 512, 79, dropout=True, has_padding=True).to(device)]\n",
    "\n",
    "head = MLP(8000, 512, 1).to(device)\n",
    "\n",
    "fusion = TensorFusion().to(device)"
   ]
  },
  {
   "cell_type": "markdown",
   "id": "4575e9d5-572c-4810-ba00-030f8ded6f05",
   "metadata": {},
   "source": [
    "## Training"
   ]
  },
  {
   "cell_type": "code",
   "execution_count": 6,
   "id": "f0b5dfe9-6677-4494-a013-7343ed43b731",
   "metadata": {},
   "outputs": [],
   "source": [
    "FILE_NAME = 'mosei_tfus_r0'"
   ]
  },
  {
   "cell_type": "code",
   "execution_count": 7,
   "id": "d9a645da-32a4-419a-9d64-2f499da509ac",
   "metadata": {},
   "outputs": [
    {
     "name": "stdout",
     "output_type": "stream",
     "text": [
      "Epoch [1/30]\n",
      "Train Loss: 0.7518\n",
      "Valid Loss: 0.6441\n",
      "Saving Best\n",
      "\n",
      "Epoch [2/30]\n",
      "Train Loss: 0.6491\n",
      "Valid Loss: 0.6323\n",
      "Saving Best\n",
      "\n",
      "Epoch [3/30]\n",
      "Train Loss: 0.6117\n",
      "Valid Loss: 0.6185\n",
      "Saving Best\n",
      "\n",
      "Epoch [4/30]\n",
      "Train Loss: 0.5775\n",
      "Valid Loss: 0.6317\n",
      "\n",
      "Epoch [5/30]\n",
      "Train Loss: 0.5466\n",
      "Valid Loss: 0.6121\n",
      "Saving Best\n",
      "\n",
      "Epoch [6/30]\n",
      "Train Loss: 0.5014\n",
      "Valid Loss: 0.6024\n",
      "Saving Best\n",
      "\n",
      "Epoch [7/30]\n",
      "Train Loss: 0.4634\n",
      "Valid Loss: 0.6220\n",
      "\n",
      "Epoch [8/30]\n",
      "Train Loss: 0.4246\n",
      "Valid Loss: 0.6033\n",
      "\n",
      "Epoch [9/30]\n",
      "Train Loss: 0.3850\n",
      "Valid Loss: 0.6173\n",
      "\n",
      "Epoch [10/30]\n",
      "Train Loss: 0.3507\n",
      "Valid Loss: 0.6093\n",
      "\n",
      "Epoch [11/30]\n",
      "Train Loss: 0.3199\n",
      "Valid Loss: 0.6052\n",
      "\n",
      "Epoch [12/30]\n",
      "Train Loss: 0.2956\n",
      "Valid Loss: 0.6051\n",
      "\n",
      "Epoch [13/30]\n",
      "Train Loss: 0.2798\n",
      "Valid Loss: 0.6084\n",
      "\n",
      "Epoch [14/30]\n",
      "Train Loss: 0.2592\n",
      "Valid Loss: 0.6299\n",
      "\n",
      "Epoch [15/30]\n",
      "Train Loss: 0.2476\n",
      "Valid Loss: 0.6188\n",
      "\n",
      "Epoch [16/30]\n",
      "Train Loss: 0.2388\n",
      "Valid Loss: 0.6063\n",
      "\n",
      "Epoch [17/30]\n",
      "Train Loss: 0.2287\n",
      "Valid Loss: 0.6165\n",
      "\n",
      "Epoch [18/30]\n",
      "Train Loss: 0.2217\n",
      "Valid Loss: 0.6048\n",
      "\n",
      "Epoch [19/30]\n",
      "Train Loss: 0.2143\n",
      "Valid Loss: 0.6097\n",
      "\n",
      "Epoch [20/30]\n",
      "Train Loss: 0.2078\n",
      "Valid Loss: 0.6043\n",
      "\n",
      "Epoch [21/30]\n",
      "Train Loss: 0.2015\n",
      "Valid Loss: 0.6132\n",
      "\n",
      "Epoch [22/30]\n",
      "Train Loss: 0.1939\n",
      "Valid Loss: 0.6097\n",
      "\n",
      "Epoch [23/30]\n",
      "Train Loss: 0.1893\n",
      "Valid Loss: 0.6211\n",
      "\n",
      "Epoch [24/30]\n",
      "Train Loss: 0.1853\n",
      "Valid Loss: 0.6054\n",
      "\n",
      "Epoch [25/30]\n",
      "Train Loss: 0.1809\n",
      "Valid Loss: 0.6063\n",
      "\n",
      "Epoch [26/30]\n",
      "Train Loss: 0.1773\n",
      "Valid Loss: 0.6133\n",
      "\n",
      "Epoch [27/30]\n",
      "Train Loss: 0.1738\n",
      "Valid Loss: 0.6003\n",
      "Saving Best\n",
      "\n",
      "Epoch [28/30]\n",
      "Train Loss: 0.1734\n",
      "Valid Loss: 0.6063\n",
      "\n",
      "Epoch [29/30]\n",
      "Train Loss: 0.1674\n",
      "Valid Loss: 0.6115\n",
      "\n",
      "Epoch [30/30]\n",
      "Train Loss: 0.1705\n",
      "Valid Loss: 0.6145\n",
      "\n",
      "Training Time: 12m23s\n",
      "Training Peak Mem: 4961.296875\n",
      "Training Params: 5488295\n"
     ]
    }
   ],
   "source": [
    "train_losses, valid_losses = train(\n",
    "    encoders, fusion, head, traindata, validdata, 30, \n",
    "    task=\"regression\", optimtype=torch.optim.AdamW,\n",
    "    early_stop=False, is_packed=True, lr=1e-3, \n",
    "    save=f'/scratch/rrm9598/Multimodal-Sentiment-Analysis/models/{FILE_NAME}.pt', \n",
    "    weight_decay=0.01, objective=torch.nn.L1Loss()\n",
    ")"
   ]
  },
  {
   "cell_type": "code",
   "execution_count": 8,
   "id": "b0e7c33a-a68d-4292-a2b2-14e8a2e53500",
   "metadata": {},
   "outputs": [
    {
     "data": {
      "text/plain": [
       "Text(0.5, 1.0, 'Loss vs. No. of epochs')"
      ]
     },
     "execution_count": 8,
     "metadata": {},
     "output_type": "execute_result"
    },
    {
     "data": {
      "image/png": "[encoded data removed]",
      "text/plain": [
       "<Figure size 640x480 with 1 Axes>"
      ]
     },
     "metadata": {},
     "output_type": "display_data"
    }
   ],
   "source": [
    "plt.plot(train_losses, label='Train Loss')\n",
    "plt.plot(valid_losses, label='Validation Loss')\n",
    "plt.xlabel('Epochs')\n",
    "plt.ylabel('Loss')\n",
    "plt.legend()\n",
    "plt.grid(True)\n",
    "plt.title('Loss vs. No. of epochs')"
   ]
  },
  {
   "cell_type": "code",
   "execution_count": 9,
   "id": "8bbd60df-8764-4fcd-a545-90860e5f8a2c",
   "metadata": {},
   "outputs": [],
   "source": [
    "save_results(train_losses, valid_losses, f'/scratch/rrm9598/Multimodal-Sentiment-Analysis/results/{FILE_NAME}.pkl')"
   ]
  },
  {
   "cell_type": "markdown",
   "id": "a2a0ca4a-2c05-4ba2-a6aa-1db0e341598b",
   "metadata": {},
   "source": [
    "## Testing"
   ]
  },
  {
   "cell_type": "code",
   "execution_count": 10,
   "id": "d4352442-0d78-4195-bd04-2332af36a7f7",
   "metadata": {},
   "outputs": [
    {
     "name": "stdout",
     "output_type": "stream",
     "text": [
      "Recall: 80.6077% | Total Accuracy: 67.1118%\n",
      "Inference Time: 2s184ms\n",
      "Inference Params: 5488295\n"
     ]
    }
   ],
   "source": [
    "model = torch.load(f'/scratch/rrm9598/Multimodal-Sentiment-Analysis/models/{FILE_NAME}.pt').to(device)\n",
    "\n",
    "test(model, test_dataloaders_all=testdata, dataset='mosi',\n",
    "     is_packed=True, criterion=torch.nn.L1Loss(), task='posneg-classification', no_robust=True)"
   ]
  },
  {
   "cell_type": "code",
   "execution_count": null,
   "id": "dd7d4419-cc6b-4022-9b93-49772c55a675",
   "metadata": {},
   "outputs": [],
   "source": []
  }
 ],
 "metadata": {
  "kernelspec": {
   "display_name": "Python 3 (ipykernel)",
   "language": "python",
   "name": "python3"
  },
  "language_info": {
   "codemirror_mode": {
    "name": "ipython",
    "version": 3
   },
   "file_extension": ".py",
   "mimetype": "text/x-python",
   "name": "python",
   "nbconvert_exporter": "python",
   "pygments_lexer": "ipython3",
   "version": "3.11.7"
  }
 },
 "nbformat": 4,
 "nbformat_minor": 5
}
